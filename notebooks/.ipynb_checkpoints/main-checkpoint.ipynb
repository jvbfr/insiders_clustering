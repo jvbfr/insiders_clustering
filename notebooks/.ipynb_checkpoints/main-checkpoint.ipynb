{
 "cells": [
  {
   "cell_type": "markdown",
   "id": "1db90860-059f-43b6-b616-7b3a9e324394",
   "metadata": {
    "execution": {
     "iopub.execute_input": "2021-09-27T01:50:49.534842Z",
     "iopub.status.busy": "2021-09-27T01:50:49.534127Z",
     "iopub.status.idle": "2021-09-27T01:50:49.537932Z",
     "shell.execute_reply": "2021-09-27T01:50:49.537267Z",
     "shell.execute_reply.started": "2021-09-27T01:50:49.534798Z"
    },
    "tags": []
   },
   "source": [
    "# Insiders Clustering"
   ]
  },
  {
   "cell_type": "markdown",
   "id": "7fcbfe1e-a1d7-45c4-9331-411f7631d38a",
   "metadata": {},
   "source": [
    "## Objetive:"
   ]
  },
  {
   "cell_type": "markdown",
   "id": "3167c92d-8718-4d17-a0db-0bc68ff2875d",
   "metadata": {},
   "source": [
    "### Loading Libraries"
   ]
  },
  {
   "cell_type": "code",
   "execution_count": 9,
   "id": "22cdd18e-3933-4d0b-8851-b50790019777",
   "metadata": {
    "execution": {
     "iopub.execute_input": "2021-09-27T01:56:35.480402Z",
     "iopub.status.busy": "2021-09-27T01:56:35.480111Z",
     "iopub.status.idle": "2021-09-27T01:56:35.483630Z",
     "shell.execute_reply": "2021-09-27T01:56:35.482973Z",
     "shell.execute_reply.started": "2021-09-27T01:56:35.480375Z"
    }
   },
   "outputs": [],
   "source": [
    "import pandas as pd\n",
    "import numpy  as np"
   ]
  }
 ],
 "metadata": {
  "kernelspec": {
   "display_name": "Python 3",
   "language": "python",
   "name": "python3"
  },
  "language_info": {
   "codemirror_mode": {
    "name": "ipython",
    "version": 3
   },
   "file_extension": ".py",
   "mimetype": "text/x-python",
   "name": "python",
   "nbconvert_exporter": "python",
   "pygments_lexer": "ipython3",
   "version": "3.8.0"
  }
 },
 "nbformat": 4,
 "nbformat_minor": 5
}
