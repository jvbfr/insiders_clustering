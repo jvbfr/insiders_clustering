{
 "cells": [
  {
   "cell_type": "markdown",
   "id": "1db90860-059f-43b6-b616-7b3a9e324394",
   "metadata": {
    "execution": {
     "iopub.execute_input": "2021-09-27T01:50:49.534842Z",
     "iopub.status.busy": "2021-09-27T01:50:49.534127Z",
     "iopub.status.idle": "2021-09-27T01:50:49.537932Z",
     "shell.execute_reply": "2021-09-27T01:50:49.537267Z",
     "shell.execute_reply.started": "2021-09-27T01:50:49.534798Z"
    },
    "tags": []
   },
   "source": [
    "# Insiders Clustering"
   ]
  },
  {
   "cell_type": "markdown",
   "id": "67c363d3",
   "metadata": {},
   "source": [
    "## 0.0 Planejamento da solução"
   ]
  },
  {
   "cell_type": "markdown",
   "id": "d9af7211",
   "metadata": {},
   "source": [
    "### Input"
   ]
  },
  {
   "cell_type": "markdown",
   "id": "5b4edc62",
   "metadata": {},
   "source": [
    "Problema de negócio\n",
    " - Selecionar os clientes mais valiosos para integrar um programa de fidelização (Insiders)\n",
    " \n",
    "Conjunto de dados\n",
    " - Vendas de um E-commerce online, durante o período de um ano"
   ]
  },
  {
   "cell_type": "markdown",
   "id": "fe912a11",
   "metadata": {},
   "source": [
    "### Output"
   ]
  },
  {
   "cell_type": "markdown",
   "id": "99232448",
   "metadata": {},
   "source": [
    "Indicação das pessoas que farão parte do grupo insiders"
   ]
  },
  {
   "cell_type": "markdown",
   "id": "7fcbfe1e-a1d7-45c4-9331-411f7631d38a",
   "metadata": {},
   "source": [
    "### Tasks"
   ]
  },
  {
   "cell_type": "markdown",
   "id": "2231fbf1",
   "metadata": {},
   "source": [
    "Pessoas elegíveis para participar do programa de insiders\n",
    " - O que são clientes de maior valor?\n",
    " - Faturamento\n",
    " - Ticket médio\n",
    " - LTV (life time value)\n",
    " - Baixo recência (recorrência de compra)\n",
    " - Alto basket size\n",
    " - Baixa probabilidade de churn\n",
    " - Alta propensão de compra\n",
    " - Alta previsão de LTV    \n",
    " - Custo\n",
    " - Baixa taxa de devolução     \n",
    " - Experiência de compra\n",
    " - Média alta das avaliações"
   ]
  },
  {
   "cell_type": "markdown",
   "id": "0fe903e4",
   "metadata": {},
   "source": [
    "Características dos clientes \n",
    "  - descrever características dos clientes\n",
    "  - características de consumo\n",
    "  - atributos da clusterização\n"
   ]
  },
  {
   "cell_type": "markdown",
   "id": "5f58c197",
   "metadata": {},
   "source": [
    "Qual a porcentagem de faturamento do grupo insiders?\n",
    "   - Faturamento total do ano\n",
    "   - Faturamento do grupo indiders\n",
    "\n"
   ]
  },
  {
   "cell_type": "markdown",
   "id": "36a6d4a6",
   "metadata": {},
   "source": [
    "Qual a expectativa de faturamento desse grupo para os próximos meses ?\n",
    "   - TV do grupo insiders\n",
    "   - Análise de Cohort (marcação no tempo)"
   ]
  },
  {
   "cell_type": "markdown",
   "id": "93b39034",
   "metadata": {},
   "source": [
    "Condição para pessoas entrar no grupo insiders\n",
    "   - Definir a peridiocidade (1 mês, 3 meses ... )\n",
    "   - A pessoa precisa ser similar ao grupo"
   ]
  },
  {
   "cell_type": "markdown",
   "id": "883986a8",
   "metadata": {},
   "source": [
    "Qual a garantia que o programa Insiders é melhor que o restante da base? \n",
    "   - Teste A/B\n",
    "   - Teste A/B Bayesiano\n",
    "   - Teste de hipóteses    "
   ]
  },
  {
   "cell_type": "markdown",
   "id": "9d59d76f",
   "metadata": {},
   "source": [
    "## Benchmark de soluções"
   ]
  },
  {
   "cell_type": "markdown",
   "id": "85ce8c5b",
   "metadata": {},
   "source": [
    "O que da pra fazer considerando um MVP ?"
   ]
  },
  {
   "cell_type": "markdown",
   "id": "9e3f1ee7",
   "metadata": {},
   "source": [
    "- RFM Model (Recency, Frequency, Monetary Value)\n",
    "  - Segmentação de clientes"
   ]
  },
  {
   "cell_type": "markdown",
   "id": "3167c92d-8718-4d17-a0db-0bc68ff2875d",
   "metadata": {},
   "source": [
    "### Loading Libraries"
   ]
  },
  {
   "cell_type": "code",
   "execution_count": 1,
   "id": "22cdd18e-3933-4d0b-8851-b50790019777",
   "metadata": {
    "execution": {
     "iopub.execute_input": "2021-09-27T01:56:35.480402Z",
     "iopub.status.busy": "2021-09-27T01:56:35.480111Z",
     "iopub.status.idle": "2021-09-27T01:56:35.483630Z",
     "shell.execute_reply": "2021-09-27T01:56:35.482973Z",
     "shell.execute_reply.started": "2021-09-27T01:56:35.480375Z"
    }
   },
   "outputs": [],
   "source": [
    "import pandas as pd\n",
    "import numpy  as np"
   ]
  },
  {
   "cell_type": "code",
   "execution_count": 2,
   "id": "7b82ae81",
   "metadata": {},
   "outputs": [],
   "source": [
    "data = pd.read_csv(\n",
    "    \n",
    "    '../data/data.csv',\n",
    "    sep = ',',\n",
    "    decimal = '.',\n",
    "    encoding = 'ISO-8859-1'\n",
    ")"
   ]
  },
  {
   "cell_type": "code",
   "execution_count": 3,
   "id": "96eb037e",
   "metadata": {},
   "outputs": [],
   "source": [
    "data = data.iloc[:, 0:8]"
   ]
  },
  {
   "cell_type": "code",
   "execution_count": 4,
   "id": "c5399ad7",
   "metadata": {},
   "outputs": [
    {
     "data": {
      "text/html": [
       "<div>\n",
       "<style scoped>\n",
       "    .dataframe tbody tr th:only-of-type {\n",
       "        vertical-align: middle;\n",
       "    }\n",
       "\n",
       "    .dataframe tbody tr th {\n",
       "        vertical-align: top;\n",
       "    }\n",
       "\n",
       "    .dataframe thead th {\n",
       "        text-align: right;\n",
       "    }\n",
       "</style>\n",
       "<table border=\"1\" class=\"dataframe\">\n",
       "  <thead>\n",
       "    <tr style=\"text-align: right;\">\n",
       "      <th></th>\n",
       "      <th>InvoiceNo</th>\n",
       "      <th>StockCode</th>\n",
       "      <th>Description</th>\n",
       "      <th>Quantity</th>\n",
       "      <th>InvoiceDate</th>\n",
       "      <th>UnitPrice</th>\n",
       "      <th>CustomerID</th>\n",
       "      <th>Country</th>\n",
       "    </tr>\n",
       "  </thead>\n",
       "  <tbody>\n",
       "    <tr>\n",
       "      <th>0</th>\n",
       "      <td>536365</td>\n",
       "      <td>85123A</td>\n",
       "      <td>WHITE HANGING HEART T-LIGHT HOLDER</td>\n",
       "      <td>6</td>\n",
       "      <td>29-Nov-16</td>\n",
       "      <td>2.55</td>\n",
       "      <td>17850.0</td>\n",
       "      <td>United Kingdom</td>\n",
       "    </tr>\n",
       "    <tr>\n",
       "      <th>1</th>\n",
       "      <td>536365</td>\n",
       "      <td>71053</td>\n",
       "      <td>WHITE METAL LANTERN</td>\n",
       "      <td>6</td>\n",
       "      <td>29-Nov-16</td>\n",
       "      <td>3.39</td>\n",
       "      <td>17850.0</td>\n",
       "      <td>United Kingdom</td>\n",
       "    </tr>\n",
       "    <tr>\n",
       "      <th>2</th>\n",
       "      <td>536365</td>\n",
       "      <td>84406B</td>\n",
       "      <td>CREAM CUPID HEARTS COAT HANGER</td>\n",
       "      <td>8</td>\n",
       "      <td>29-Nov-16</td>\n",
       "      <td>2.75</td>\n",
       "      <td>17850.0</td>\n",
       "      <td>United Kingdom</td>\n",
       "    </tr>\n",
       "    <tr>\n",
       "      <th>3</th>\n",
       "      <td>536365</td>\n",
       "      <td>84029G</td>\n",
       "      <td>KNITTED UNION FLAG HOT WATER BOTTLE</td>\n",
       "      <td>6</td>\n",
       "      <td>29-Nov-16</td>\n",
       "      <td>3.39</td>\n",
       "      <td>17850.0</td>\n",
       "      <td>United Kingdom</td>\n",
       "    </tr>\n",
       "    <tr>\n",
       "      <th>4</th>\n",
       "      <td>536365</td>\n",
       "      <td>84029E</td>\n",
       "      <td>RED WOOLLY HOTTIE WHITE HEART.</td>\n",
       "      <td>6</td>\n",
       "      <td>29-Nov-16</td>\n",
       "      <td>3.39</td>\n",
       "      <td>17850.0</td>\n",
       "      <td>United Kingdom</td>\n",
       "    </tr>\n",
       "    <tr>\n",
       "      <th>5</th>\n",
       "      <td>536365</td>\n",
       "      <td>22752</td>\n",
       "      <td>SET 7 BABUSHKA NESTING BOXES</td>\n",
       "      <td>2</td>\n",
       "      <td>29-Nov-16</td>\n",
       "      <td>7.65</td>\n",
       "      <td>17850.0</td>\n",
       "      <td>United Kingdom</td>\n",
       "    </tr>\n",
       "    <tr>\n",
       "      <th>6</th>\n",
       "      <td>536365</td>\n",
       "      <td>21730</td>\n",
       "      <td>GLASS STAR FROSTED T-LIGHT HOLDER</td>\n",
       "      <td>6</td>\n",
       "      <td>29-Nov-16</td>\n",
       "      <td>4.25</td>\n",
       "      <td>17850.0</td>\n",
       "      <td>United Kingdom</td>\n",
       "    </tr>\n",
       "    <tr>\n",
       "      <th>7</th>\n",
       "      <td>536366</td>\n",
       "      <td>22633</td>\n",
       "      <td>HAND WARMER UNION JACK</td>\n",
       "      <td>6</td>\n",
       "      <td>29-Nov-16</td>\n",
       "      <td>1.85</td>\n",
       "      <td>17850.0</td>\n",
       "      <td>United Kingdom</td>\n",
       "    </tr>\n",
       "    <tr>\n",
       "      <th>8</th>\n",
       "      <td>536366</td>\n",
       "      <td>22632</td>\n",
       "      <td>HAND WARMER RED POLKA DOT</td>\n",
       "      <td>6</td>\n",
       "      <td>29-Nov-16</td>\n",
       "      <td>1.85</td>\n",
       "      <td>17850.0</td>\n",
       "      <td>United Kingdom</td>\n",
       "    </tr>\n",
       "    <tr>\n",
       "      <th>9</th>\n",
       "      <td>536367</td>\n",
       "      <td>84879</td>\n",
       "      <td>ASSORTED COLOUR BIRD ORNAMENT</td>\n",
       "      <td>32</td>\n",
       "      <td>29-Nov-16</td>\n",
       "      <td>1.69</td>\n",
       "      <td>13047.0</td>\n",
       "      <td>United Kingdom</td>\n",
       "    </tr>\n",
       "  </tbody>\n",
       "</table>\n",
       "</div>"
      ],
      "text/plain": [
       "  InvoiceNo StockCode                          Description  Quantity  \\\n",
       "0    536365    85123A   WHITE HANGING HEART T-LIGHT HOLDER         6   \n",
       "1    536365     71053                  WHITE METAL LANTERN         6   \n",
       "2    536365    84406B       CREAM CUPID HEARTS COAT HANGER         8   \n",
       "3    536365    84029G  KNITTED UNION FLAG HOT WATER BOTTLE         6   \n",
       "4    536365    84029E       RED WOOLLY HOTTIE WHITE HEART.         6   \n",
       "5    536365     22752         SET 7 BABUSHKA NESTING BOXES         2   \n",
       "6    536365     21730    GLASS STAR FROSTED T-LIGHT HOLDER         6   \n",
       "7    536366     22633               HAND WARMER UNION JACK         6   \n",
       "8    536366     22632            HAND WARMER RED POLKA DOT         6   \n",
       "9    536367     84879        ASSORTED COLOUR BIRD ORNAMENT        32   \n",
       "\n",
       "  InvoiceDate  UnitPrice  CustomerID         Country  \n",
       "0   29-Nov-16       2.55     17850.0  United Kingdom  \n",
       "1   29-Nov-16       3.39     17850.0  United Kingdom  \n",
       "2   29-Nov-16       2.75     17850.0  United Kingdom  \n",
       "3   29-Nov-16       3.39     17850.0  United Kingdom  \n",
       "4   29-Nov-16       3.39     17850.0  United Kingdom  \n",
       "5   29-Nov-16       7.65     17850.0  United Kingdom  \n",
       "6   29-Nov-16       4.25     17850.0  United Kingdom  \n",
       "7   29-Nov-16       1.85     17850.0  United Kingdom  \n",
       "8   29-Nov-16       1.85     17850.0  United Kingdom  \n",
       "9   29-Nov-16       1.69     13047.0  United Kingdom  "
      ]
     },
     "execution_count": 4,
     "metadata": {},
     "output_type": "execute_result"
    }
   ],
   "source": [
    "data.head(10)"
   ]
  },
  {
   "cell_type": "code",
   "execution_count": 5,
   "id": "84eb7562",
   "metadata": {},
   "outputs": [
    {
     "name": "stdout",
     "output_type": "stream",
     "text": [
      "<class 'pandas.core.frame.DataFrame'>\n",
      "RangeIndex: 541909 entries, 0 to 541908\n",
      "Data columns (total 8 columns):\n",
      " #   Column       Non-Null Count   Dtype  \n",
      "---  ------       --------------   -----  \n",
      " 0   InvoiceNo    541909 non-null  object \n",
      " 1   StockCode    541909 non-null  object \n",
      " 2   Description  540455 non-null  object \n",
      " 3   Quantity     541909 non-null  int64  \n",
      " 4   InvoiceDate  541909 non-null  object \n",
      " 5   UnitPrice    541909 non-null  float64\n",
      " 6   CustomerID   406829 non-null  float64\n",
      " 7   Country      541909 non-null  object \n",
      "dtypes: float64(2), int64(1), object(5)\n",
      "memory usage: 33.1+ MB\n"
     ]
    }
   ],
   "source": [
    "data.info()"
   ]
  },
  {
   "cell_type": "code",
   "execution_count": null,
   "id": "02ce704c",
   "metadata": {},
   "outputs": [],
   "source": []
  }
 ],
 "metadata": {
  "kernelspec": {
   "display_name": "Python 3",
   "language": "python",
   "name": "python3"
  },
  "language_info": {
   "codemirror_mode": {
    "name": "ipython",
    "version": 3
   },
   "file_extension": ".py",
   "mimetype": "text/x-python",
   "name": "python",
   "nbconvert_exporter": "python",
   "pygments_lexer": "ipython3",
   "version": "3.8.0"
  }
 },
 "nbformat": 4,
 "nbformat_minor": 5
}
